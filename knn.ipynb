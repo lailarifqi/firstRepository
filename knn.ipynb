{
  "nbformat": 4,
  "nbformat_minor": 0,
  "metadata": {
    "colab": {
      "name": "knn.ipynb",
      "provenance": [],
      "collapsed_sections": [],
      "authorship_tag": "ABX9TyOf6nqcwh4/IQkw0zmRBX6z",
      "include_colab_link": true
    },
    "kernelspec": {
      "name": "python3",
      "display_name": "Python 3"
    },
    "language_info": {
      "name": "python"
    }
  },
  "cells": [
    {
      "cell_type": "markdown",
      "metadata": {
        "id": "view-in-github",
        "colab_type": "text"
      },
      "source": [
        "<a href=\"https://colab.research.google.com/github/lailarifqi/firstRepository/blob/main/knn.ipynb\" target=\"_parent\"><img src=\"https://colab.research.google.com/assets/colab-badge.svg\" alt=\"Open In Colab\"/></a>"
      ]
    },
    {
      "cell_type": "code",
      "metadata": {
        "id": "cobK-wL7MX73"
      },
      "source": [
        "import numpy as np\n",
        "import matplotlib.pyplot as plt\n",
        "import pandas as pd"
      ],
      "execution_count": 1,
      "outputs": []
    },
    {
      "cell_type": "code",
      "metadata": {
        "id": "85eELsq_OtK1"
      },
      "source": [
        "dataset = pd.read_csv('Salary_Data.csv')\n"
      ],
      "execution_count": 2,
      "outputs": []
    },
    {
      "cell_type": "code",
      "metadata": {
        "colab": {
          "base_uri": "https://localhost:8080/",
          "height": 203
        },
        "id": "rq-zV-EePbyH",
        "outputId": "4c586d51-a64c-462c-b628-923c0a64bb12"
      },
      "source": [
        "dataset.head()"
      ],
      "execution_count": 3,
      "outputs": [
        {
          "output_type": "execute_result",
          "data": {
            "text/html": [
              "<div>\n",
              "<style scoped>\n",
              "    .dataframe tbody tr th:only-of-type {\n",
              "        vertical-align: middle;\n",
              "    }\n",
              "\n",
              "    .dataframe tbody tr th {\n",
              "        vertical-align: top;\n",
              "    }\n",
              "\n",
              "    .dataframe thead th {\n",
              "        text-align: right;\n",
              "    }\n",
              "</style>\n",
              "<table border=\"1\" class=\"dataframe\">\n",
              "  <thead>\n",
              "    <tr style=\"text-align: right;\">\n",
              "      <th></th>\n",
              "      <th>YearsExperience</th>\n",
              "      <th>Salary</th>\n",
              "    </tr>\n",
              "  </thead>\n",
              "  <tbody>\n",
              "    <tr>\n",
              "      <th>0</th>\n",
              "      <td>1.1</td>\n",
              "      <td>39343.0</td>\n",
              "    </tr>\n",
              "    <tr>\n",
              "      <th>1</th>\n",
              "      <td>1.3</td>\n",
              "      <td>46205.0</td>\n",
              "    </tr>\n",
              "    <tr>\n",
              "      <th>2</th>\n",
              "      <td>1.5</td>\n",
              "      <td>37731.0</td>\n",
              "    </tr>\n",
              "    <tr>\n",
              "      <th>3</th>\n",
              "      <td>2.0</td>\n",
              "      <td>43525.0</td>\n",
              "    </tr>\n",
              "    <tr>\n",
              "      <th>4</th>\n",
              "      <td>2.2</td>\n",
              "      <td>39891.0</td>\n",
              "    </tr>\n",
              "  </tbody>\n",
              "</table>\n",
              "</div>"
            ],
            "text/plain": [
              "   YearsExperience   Salary\n",
              "0              1.1  39343.0\n",
              "1              1.3  46205.0\n",
              "2              1.5  37731.0\n",
              "3              2.0  43525.0\n",
              "4              2.2  39891.0"
            ]
          },
          "metadata": {
            "tags": []
          },
          "execution_count": 3
        }
      ]
    },
    {
      "cell_type": "code",
      "metadata": {
        "id": "-hRlkyd_Pk5_"
      },
      "source": [
        "x = dataset.iloc[:,[0,1]].values\n",
        "y = dataset.iloc[:, -1].values"
      ],
      "execution_count": 5,
      "outputs": []
    },
    {
      "cell_type": "code",
      "metadata": {
        "colab": {
          "base_uri": "https://localhost:8080/"
        },
        "id": "DeNjpiN5QGyg",
        "outputId": "5b9e9e41-7aa7-4aaf-ba00-1ae5851ee7fb"
      },
      "source": [
        "print(x)"
      ],
      "execution_count": 6,
      "outputs": [
        {
          "output_type": "stream",
          "text": [
            "[[1.10000e+00 3.93430e+04]\n",
            " [1.30000e+00 4.62050e+04]\n",
            " [1.50000e+00 3.77310e+04]\n",
            " [2.00000e+00 4.35250e+04]\n",
            " [2.20000e+00 3.98910e+04]\n",
            " [2.90000e+00 5.66420e+04]\n",
            " [3.00000e+00 6.01500e+04]\n",
            " [3.20000e+00 5.44450e+04]\n",
            " [3.20000e+00 6.44450e+04]\n",
            " [3.70000e+00 5.71890e+04]\n",
            " [3.90000e+00 6.32180e+04]\n",
            " [4.00000e+00 5.57940e+04]\n",
            " [4.00000e+00 5.69570e+04]\n",
            " [4.10000e+00 5.70810e+04]\n",
            " [4.50000e+00 6.11110e+04]\n",
            " [4.90000e+00 6.79380e+04]\n",
            " [5.10000e+00 6.60290e+04]\n",
            " [5.30000e+00 8.30880e+04]\n",
            " [5.90000e+00 8.13630e+04]\n",
            " [6.00000e+00 9.39400e+04]\n",
            " [6.80000e+00 9.17380e+04]\n",
            " [7.10000e+00 9.82730e+04]\n",
            " [7.90000e+00 1.01302e+05]\n",
            " [8.20000e+00 1.13812e+05]\n",
            " [8.70000e+00 1.09431e+05]\n",
            " [9.00000e+00 1.05582e+05]\n",
            " [9.50000e+00 1.16969e+05]\n",
            " [9.60000e+00 1.12635e+05]\n",
            " [1.03000e+01 1.22391e+05]\n",
            " [1.05000e+01 1.21872e+05]]\n"
          ],
          "name": "stdout"
        }
      ]
    },
    {
      "cell_type": "code",
      "metadata": {
        "colab": {
          "base_uri": "https://localhost:8080/"
        },
        "id": "hp93eSwhQMKa",
        "outputId": "fcbf2a86-148a-475c-c870-5def3dad7f92"
      },
      "source": [
        "print(y)"
      ],
      "execution_count": 7,
      "outputs": [
        {
          "output_type": "stream",
          "text": [
            "[ 39343.  46205.  37731.  43525.  39891.  56642.  60150.  54445.  64445.\n",
            "  57189.  63218.  55794.  56957.  57081.  61111.  67938.  66029.  83088.\n",
            "  81363.  93940.  91738.  98273. 101302. 113812. 109431. 105582. 116969.\n",
            " 112635. 122391. 121872.]\n"
          ],
          "name": "stdout"
        }
      ]
    },
    {
      "cell_type": "code",
      "metadata": {
        "id": "M2z9GpLPQP6k"
      },
      "source": [
        "from sklearn.model_selection import train_test_split\n",
        "x_train, x_test, y_train, y_test = train_test_split(x, y, test_size= 0.25, random_state=0)"
      ],
      "execution_count": 8,
      "outputs": []
    },
    {
      "cell_type": "code",
      "metadata": {
        "colab": {
          "base_uri": "https://localhost:8080/"
        },
        "id": "S94lRmCQQwVM",
        "outputId": "dde6bb58-f27c-43bb-9614-3c55328ef4fe"
      },
      "source": [
        "print(x_train)"
      ],
      "execution_count": 9,
      "outputs": [
        {
          "output_type": "stream",
          "text": [
            "[[5.30000e+00 8.30880e+04]\n",
            " [7.90000e+00 1.01302e+05]\n",
            " [2.90000e+00 5.66420e+04]\n",
            " [5.10000e+00 6.60290e+04]\n",
            " [3.20000e+00 6.44450e+04]\n",
            " [4.50000e+00 6.11110e+04]\n",
            " [8.20000e+00 1.13812e+05]\n",
            " [6.80000e+00 9.17380e+04]\n",
            " [1.30000e+00 4.62050e+04]\n",
            " [1.05000e+01 1.21872e+05]\n",
            " [3.00000e+00 6.01500e+04]\n",
            " [2.20000e+00 3.98910e+04]\n",
            " [5.90000e+00 8.13630e+04]\n",
            " [6.00000e+00 9.39400e+04]\n",
            " [3.70000e+00 5.71890e+04]\n",
            " [3.20000e+00 5.44450e+04]\n",
            " [9.00000e+00 1.05582e+05]\n",
            " [2.00000e+00 4.35250e+04]\n",
            " [1.10000e+00 3.93430e+04]\n",
            " [7.10000e+00 9.82730e+04]\n",
            " [4.90000e+00 6.79380e+04]\n",
            " [4.00000e+00 5.69570e+04]]\n"
          ],
          "name": "stdout"
        }
      ]
    },
    {
      "cell_type": "code",
      "metadata": {
        "colab": {
          "base_uri": "https://localhost:8080/"
        },
        "id": "-vKhy22ORP_J",
        "outputId": "2f2ea1f4-f223-4840-fb24-57db6effa97a"
      },
      "source": [
        "print(y_train)"
      ],
      "execution_count": 13,
      "outputs": [
        {
          "output_type": "stream",
          "text": [
            "[ 83088. 101302.  56642.  66029.  64445.  61111. 113812.  91738.  46205.\n",
            " 121872.  60150.  39891.  81363.  93940.  57189.  54445. 105582.  43525.\n",
            "  39343.  98273.  67938.  56957.]\n"
          ],
          "name": "stdout"
        }
      ]
    },
    {
      "cell_type": "code",
      "metadata": {
        "colab": {
          "base_uri": "https://localhost:8080/"
        },
        "id": "m9c1OCuISsKt",
        "outputId": "56bed8ff-4704-40a7-9256-6cce0e29a18d"
      },
      "source": [
        "from sklearn.neighbors import KNeighborsClassifier\n",
        "classifier = KNeighborsClassifier(n_neighbors=5, metric= 'minkowski', p=2)\n",
        "classifier.fit(x_train, y_train)"
      ],
      "execution_count": 16,
      "outputs": [
        {
          "output_type": "execute_result",
          "data": {
            "text/plain": [
              "KNeighborsClassifier(algorithm='auto', leaf_size=30, metric='minkowski',\n",
              "                     metric_params=None, n_jobs=None, n_neighbors=5, p=2,\n",
              "                     weights='uniform')"
            ]
          },
          "metadata": {
            "tags": []
          },
          "execution_count": 16
        }
      ]
    },
    {
      "cell_type": "code",
      "metadata": {
        "id": "Vk6Kr5jETpOm"
      },
      "source": [
        "y_pred =  classifier.predict(x_test)"
      ],
      "execution_count": 17,
      "outputs": []
    },
    {
      "cell_type": "code",
      "metadata": {
        "id": "DT13QvbfT2qo"
      },
      "source": [
        "from sklearn.metrics import confusion_matrix\n",
        "cm = confusion_matrix(y_test, y_pred)"
      ],
      "execution_count": 18,
      "outputs": []
    },
    {
      "cell_type": "code",
      "metadata": {
        "colab": {
          "base_uri": "https://localhost:8080/"
        },
        "id": "dzkujbK5UFeL",
        "outputId": "d7bc6fe2-2d4f-4766-94e6-a88337d2eb07"
      },
      "source": [
        "print(cm)"
      ],
      "execution_count": 19,
      "outputs": [
        {
          "output_type": "stream",
          "text": [
            "[[0 1 0 0 0 0 0 0 0 0 0 0]\n",
            " [0 0 0 0 0 0 0 0 0 0 0 0]\n",
            " [0 0 0 0 0 0 0 0 0 0 0 0]\n",
            " [0 0 1 0 0 0 0 0 0 0 0 0]\n",
            " [0 0 1 0 0 0 0 0 0 0 0 0]\n",
            " [0 0 0 0 0 0 0 0 0 0 0 0]\n",
            " [0 0 0 0 0 1 0 0 0 0 0 0]\n",
            " [0 0 0 0 0 0 0 0 0 0 0 0]\n",
            " [0 0 0 0 0 0 0 1 0 0 0 0]\n",
            " [0 0 0 0 0 0 0 1 0 0 0 0]\n",
            " [0 0 0 0 0 0 0 1 0 0 0 0]\n",
            " [0 0 0 0 0 0 0 1 0 0 0 0]]\n"
          ],
          "name": "stdout"
        }
      ]
    }
  ]
}