{
  "nbformat": 4,
  "nbformat_minor": 0,
  "metadata": {
    "colab": {
      "name": "Preprocessing.ipynb",
      "provenance": [],
      "collapsed_sections": []
    },
    "kernelspec": {
      "name": "python3",
      "display_name": "Python 3"
    },
    "language_info": {
      "name": "python"
    }
  },
  "cells": [
    {
      "cell_type": "code",
      "metadata": {
        "id": "J8ZPN-1T_T3c"
      },
      "source": [
        "import numpy as np\n",
        "import matplotlib.pyplot as plt\n",
        "import pandas as pd "
      ],
      "execution_count": 36,
      "outputs": []
    },
    {
      "cell_type": "markdown",
      "metadata": {
        "id": "9aRc0j7wHSZ9"
      },
      "source": [
        ""
      ]
    },
    {
      "cell_type": "markdown",
      "metadata": {
        "id": "pOlpRoSHCZlN"
      },
      "source": [
        "Numpy merupakan library python digunakan untuk komputasi matriks.\n",
        "matplolib merupakan library python untuk presentasi data berupa grafik atau plot."
      ]
    },
    {
      "cell_type": "code",
      "metadata": {
        "id": "4I3d0R9ZHom4"
      },
      "source": [
        "dataset = pd.read_csv('datapenduduk.csv')\n",
        "x = dataset.iloc[:, :-1].values\n",
        "y = dataset.iloc[:, -1].values"
      ],
      "execution_count": 38,
      "outputs": []
    },
    {
      "cell_type": "code",
      "metadata": {
        "colab": {
          "base_uri": "https://localhost:8080/"
        },
        "id": "fiISxJh-JfB1",
        "outputId": "4d9c2dff-fd75-4308-bf94-05cd4f169214"
      },
      "source": [
        "print(x)"
      ],
      "execution_count": 39,
      "outputs": [
        {
          "output_type": "stream",
          "text": [
            "[[2013 'PROVINSI DKI JAKARTA' 'KAB.ADM.KEP.SERIBU' 'KEP. SERIBU UTR'\n",
            "  'P. PANGGANG' 'Islam']\n",
            " [2013 'PROVINSI DKI JAKARTA' 'KAB.ADM.KEP.SERIBU' 'KEP. SERIBU UTR'\n",
            "  'P. KELAPA' 'Islam']\n",
            " [2013 'PROVINSI DKI JAKARTA' 'KAB.ADM.KEP.SERIBU' 'KEP. SERIBU UTR'\n",
            "  'P. HARAPAN' 'Islam']\n",
            " ...\n",
            " [2013 'PROVINSI DKI JAKARTA' 'JAKARTA TIMUR' 'CIPAYUNG' 'BAMBU APUS'\n",
            "  'Aliran Kepercayaan']\n",
            " [2013 'PROVINSI DKI JAKARTA' 'JAKARTA TIMUR' 'CIPAYUNG' 'LUBANG BUAYA'\n",
            "  'Aliran Kepercayaan']\n",
            " [2013 'PROVINSI DKI JAKARTA' 'JAKARTA TIMUR' 'CIPAYUNG' 'CEGER'\n",
            "  'Aliran Kepercayaan']]\n"
          ],
          "name": "stdout"
        }
      ]
    },
    {
      "cell_type": "code",
      "metadata": {
        "colab": {
          "base_uri": "https://localhost:8080/"
        },
        "id": "k9vuqefSLKlN",
        "outputId": "501e35ec-06e7-4cdf-fb51-1d7e83c90f82"
      },
      "source": [
        "print(y)"
      ],
      "execution_count": 40,
      "outputs": [
        {
          "output_type": "stream",
          "text": [
            "[6.159e+03 6.405e+03 2.251e+03 ... 1.300e+01 3.000e+01 2.000e+00]\n"
          ],
          "name": "stdout"
        }
      ]
    },
    {
      "cell_type": "code",
      "metadata": {
        "id": "lbCY2xzBMEqe"
      },
      "source": [
        "from sklearn.impute import SimpleImputer\n",
        "imputer = SimpleImputer(missing_values=np.nan, strategy='constant')\n",
        "imputer.fit(x[:, 1:3])\n",
        "x[:, 1:3] = imputer.transform(x[:, 1:3])   "
      ],
      "execution_count": 42,
      "outputs": []
    },
    {
      "cell_type": "code",
      "metadata": {
        "colab": {
          "base_uri": "https://localhost:8080/"
        },
        "id": "vFrbtE90NoTo",
        "outputId": "5032db59-3f40-499d-c833-c904cb3f00a8"
      },
      "source": [
        "print(x)"
      ],
      "execution_count": 43,
      "outputs": [
        {
          "output_type": "stream",
          "text": [
            "[[2013 'PROVINSI DKI JAKARTA' 'KAB.ADM.KEP.SERIBU' 'KEP. SERIBU UTR'\n",
            "  'P. PANGGANG' 'Islam']\n",
            " [2013 'PROVINSI DKI JAKARTA' 'KAB.ADM.KEP.SERIBU' 'KEP. SERIBU UTR'\n",
            "  'P. KELAPA' 'Islam']\n",
            " [2013 'PROVINSI DKI JAKARTA' 'KAB.ADM.KEP.SERIBU' 'KEP. SERIBU UTR'\n",
            "  'P. HARAPAN' 'Islam']\n",
            " ...\n",
            " [2013 'PROVINSI DKI JAKARTA' 'JAKARTA TIMUR' 'CIPAYUNG' 'BAMBU APUS'\n",
            "  'Aliran Kepercayaan']\n",
            " [2013 'PROVINSI DKI JAKARTA' 'JAKARTA TIMUR' 'CIPAYUNG' 'LUBANG BUAYA'\n",
            "  'Aliran Kepercayaan']\n",
            " [2013 'PROVINSI DKI JAKARTA' 'JAKARTA TIMUR' 'CIPAYUNG' 'CEGER'\n",
            "  'Aliran Kepercayaan']]\n"
          ],
          "name": "stdout"
        }
      ]
    },
    {
      "cell_type": "code",
      "metadata": {
        "id": "7nUywjicPfwX"
      },
      "source": [
        "from sklearn.compose import ColumnTransformer\n",
        "from sklearn.preprocessing import OneHotEncoder\n",
        "ct = ColumnTransformer(transformers=[('encoder', OneHotEncoder(), [0])], remainder='passthrough')\n",
        "x = np.array(ct.fit_transform(x)) "
      ],
      "execution_count": 44,
      "outputs": []
    },
    {
      "cell_type": "code",
      "metadata": {
        "colab": {
          "base_uri": "https://localhost:8080/"
        },
        "id": "HLYcjuvVR3UY",
        "outputId": "d8ba80dd-7e21-47fe-8e77-451d44975e5f"
      },
      "source": [
        " print(x)"
      ],
      "execution_count": 45,
      "outputs": [
        {
          "output_type": "stream",
          "text": [
            "[[1.0 'PROVINSI DKI JAKARTA' 'KAB.ADM.KEP.SERIBU' 'KEP. SERIBU UTR'\n",
            "  'P. PANGGANG' 'Islam']\n",
            " [1.0 'PROVINSI DKI JAKARTA' 'KAB.ADM.KEP.SERIBU' 'KEP. SERIBU UTR'\n",
            "  'P. KELAPA' 'Islam']\n",
            " [1.0 'PROVINSI DKI JAKARTA' 'KAB.ADM.KEP.SERIBU' 'KEP. SERIBU UTR'\n",
            "  'P. HARAPAN' 'Islam']\n",
            " ...\n",
            " [1.0 'PROVINSI DKI JAKARTA' 'JAKARTA TIMUR' 'CIPAYUNG' 'BAMBU APUS'\n",
            "  'Aliran Kepercayaan']\n",
            " [1.0 'PROVINSI DKI JAKARTA' 'JAKARTA TIMUR' 'CIPAYUNG' 'LUBANG BUAYA'\n",
            "  'Aliran Kepercayaan']\n",
            " [1.0 'PROVINSI DKI JAKARTA' 'JAKARTA TIMUR' 'CIPAYUNG' 'CEGER'\n",
            "  'Aliran Kepercayaan']]\n"
          ],
          "name": "stdout"
        }
      ]
    },
    {
      "cell_type": "code",
      "metadata": {
        "id": "1rTsEDDISXVN"
      },
      "source": [
        "from sklearn.preprocessing import LabelEncoder \n",
        "le = LabelEncoder()\n",
        "y = le.fit_transform(y)"
      ],
      "execution_count": 46,
      "outputs": []
    },
    {
      "cell_type": "code",
      "metadata": {
        "colab": {
          "base_uri": "https://localhost:8080/"
        },
        "id": "VH4KegkmS5q2",
        "outputId": "0138df36-ccb5-45df-823c-8eea28c5a703"
      },
      "source": [
        "print(y)"
      ],
      "execution_count": 47,
      "outputs": [
        {
          "output_type": "stream",
          "text": [
            "[719 725 530 ...  12  28   1]\n"
          ],
          "name": "stdout"
        }
      ]
    },
    {
      "cell_type": "markdown",
      "metadata": {
        "id": "mfLGr0fmCVmD"
      },
      "source": [
        ""
      ]
    },
    {
      "cell_type": "code",
      "metadata": {
        "id": "N0Ek4H7PThoP"
      },
      "source": [
        "from sklearn.model_selection import train_test_split\n",
        "x_train, x_test, y_train, y_test = train_test_split(x, y, test_size=0.2, random_state=1)"
      ],
      "execution_count": 48,
      "outputs": []
    },
    {
      "cell_type": "code",
      "metadata": {
        "colab": {
          "base_uri": "https://localhost:8080/"
        },
        "id": "cN64dgp5hHCn",
        "outputId": "9d4bf473-77f3-4b1e-a853-51e41a065e30"
      },
      "source": [
        "print(x_train)"
      ],
      "execution_count": 49,
      "outputs": [
        {
          "output_type": "stream",
          "text": [
            "[[1.0 'PROVINSI DKI JAKARTA' 'JAKARTA TIMUR' 'CIRACAS' 'SUSUKAN'\n",
            "  'Katholik']\n",
            " [1.0 'PROVINSI DKI JAKARTA' 'JAKARTA PUSAT' 'TANAH ABANG'\n",
            "  'BENDUNGAN HILIR' 'Islam']\n",
            " [1.0 'PROVINSI DKI JAKARTA' 'JAKARTA TIMUR' 'PASAR REBO' 'CIJANTUNG'\n",
            "  'Aliran Kepercayaan']\n",
            " ...\n",
            " [1.0 'PROVINSI DKI JAKARTA' 'JAKARTA PUSAT' 'SENEN' 'KRAMAT' 'Budha']\n",
            " [1.0 'PROVINSI DKI JAKARTA' 'JAKARTA TIMUR' 'CAKUNG' 'JATINEGARA'\n",
            "  'Islam']\n",
            " [1.0 'PROVINSI DKI JAKARTA' 'JAKARTA TIMUR' 'CIPAYUNG' 'CILANGKAP'\n",
            "  'Hindu']]\n"
          ],
          "name": "stdout"
        }
      ]
    },
    {
      "cell_type": "code",
      "metadata": {
        "colab": {
          "base_uri": "https://localhost:8080/"
        },
        "id": "v9x04IDAhWuL",
        "outputId": "63d14112-aa11-45c4-deac-15aa87114412"
      },
      "source": [
        "print(x_test)"
      ],
      "execution_count": 50,
      "outputs": [
        {
          "output_type": "stream",
          "text": [
            "[[1.0 'PROVINSI DKI JAKARTA' 'JAKARTA SELATAN' 'PASAR MINGGU' 'RAGUNAN'\n",
            "  'Budha']\n",
            " [1.0 'PROVINSI DKI JAKARTA' 'JAKARTA TIMUR' 'MAKASAR' 'CIPINANG MELAYU'\n",
            "  'Khonghuchu']\n",
            " [1.0 'PROVINSI DKI JAKARTA' 'JAKARTA TIMUR' 'DUREN SAWIT' 'PONDOK BAMBU'\n",
            "  'Khonghuchu']\n",
            " ...\n",
            " [1.0 'PROVINSI DKI JAKARTA' 'JAKARTA UTARA' 'KELAPA GADING'\n",
            "  'KELAPA GADING TIMUR' 'Khonghuchu']\n",
            " [1.0 'PROVINSI DKI JAKARTA' 'JAKARTA PUSAT' 'SENEN' 'KENARI' 'Hindu']\n",
            " [1.0 'PROVINSI DKI JAKARTA' 'JAKARTA SELATAN' 'KEBAYORAN BARU'\n",
            "  'PETOGOGAN' 'Hindu']]\n"
          ],
          "name": "stdout"
        }
      ]
    },
    {
      "cell_type": "code",
      "metadata": {
        "colab": {
          "base_uri": "https://localhost:8080/"
        },
        "id": "MXO0CFu0hfew",
        "outputId": "83b553c9-a3d6-4ae6-e0ec-105c543cecd4"
      },
      "source": [
        "print(y_train)"
      ],
      "execution_count": 51,
      "outputs": [
        {
          "output_type": "stream",
          "text": [
            "[ 328  841    4 ...  335 1016   39]\n"
          ],
          "name": "stdout"
        }
      ]
    },
    {
      "cell_type": "code",
      "metadata": {
        "colab": {
          "base_uri": "https://localhost:8080/"
        },
        "id": "mSRQtt7ihk5t",
        "outputId": "4e9bc4de-49d9-4830-e588-66ab55dbc871"
      },
      "source": [
        "print(y_test)"
      ],
      "execution_count": 52,
      "outputs": [
        {
          "output_type": "stream",
          "text": [
            "[  78    4 1231  458   76  426  533  708   44   37  487  748  479  782\n",
            "   10    0 1087  526   36 1201  131  854  998   22  625    0 1042  826\n",
            " 1152 1243 1312  842   39   22 1049  929  469   66  965    1 1002  718\n",
            "   49  244  481 1319  992  657  342    3  707    2   27 1212 1274   29\n",
            "   75 1051   14  290 1357 1335  816  489  109 1351  174 1349  110  982\n",
            "  285    1  857  616 1229  440 1296  413    7    0   43  797  627  988\n",
            "  594 1209 1211  689    4  581   11  700 1107    5  656  228    0   61\n",
            "  269 1074   19   12  248  340   16 1077   37   82   44  396 1245  429\n",
            "  603  216  501  993   31 1233  572  214   64  470  704  831  451  588\n",
            "   74 1187  303    0   11   23  729    0 1340   90 1153  229  364   12\n",
            "  538  542  165 1185  784    5  862  492   41  620  529 1044  803 1103\n",
            " 1110 1280 1317  561 1220  308   51  452   54  977  486   55    1  733\n",
            "    3  283    1  455    0  121  278  811   53  757   60  638 1071    3\n",
            " 1058  235  942  505  211  442  913 1178  179   22 1167  395  703   32\n",
            "  799  225 1062  227 1005  206  522  654  677  766  275  233  152  171\n",
            "    8 1379   32  149    6   70   70  162  135 1214  881  178   60  578\n",
            " 1141  780  819  655    6  186  367  439  585  264  497   55  531  717\n",
            "  943  101  828    0  156    0    0    0   40  394    3  602   41  873\n",
            " 1268  885  590  911  944  166  226  955   14    0 1283    0  204   99\n",
            "  567 1140  518   30 1316 1324  309  281   16  899  778 1247  643   73\n",
            "    0    5 1368    0   78 1143 1204    0    0  346  773  935    7   44\n",
            "    3  353 1287  395  102    0    0  769 1374  483  219  538  170 1063\n",
            "  719    4   49 1366 1254  951  176  962    1  812  692    0 1033  267\n",
            "  367  241   62  538  324    0  804   16 1308  525  209  624   77  255\n",
            " 1358    6  554  669 1285  380  844 1104 1054  749    0  648  103  687\n",
            "  408 1273 1170 1310  665   47 1146   59 1120  949 1072  129  623  148\n",
            "  504  553   60   28   20  680  350    8   47   16]\n"
          ],
          "name": "stdout"
        }
      ]
    },
    {
      "cell_type": "markdown",
      "metadata": {
        "id": "tz6ni5AhCpsh"
      },
      "source": [
        ""
      ]
    }
  ]
}