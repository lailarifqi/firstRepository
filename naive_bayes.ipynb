{
  "nbformat": 4,
  "nbformat_minor": 0,
  "metadata": {
    "colab": {
      "name": "naive_bayes.ipynb",
      "provenance": [],
      "collapsed_sections": [],
      "authorship_tag": "ABX9TyOx+Hsa47QysBT3ERAUtXXR",
      "include_colab_link": true
    },
    "kernelspec": {
      "name": "python3",
      "display_name": "Python 3"
    },
    "language_info": {
      "name": "python"
    }
  },
  "cells": [
    {
      "cell_type": "markdown",
      "metadata": {
        "id": "view-in-github",
        "colab_type": "text"
      },
      "source": [
        "<a href=\"https://colab.research.google.com/github/lailarifqi/firstRepository/blob/main/naive_bayes.ipynb\" target=\"_parent\"><img src=\"https://colab.research.google.com/assets/colab-badge.svg\" alt=\"Open In Colab\"/></a>"
      ]
    },
    {
      "cell_type": "code",
      "metadata": {
        "id": "gvtfSox-gFZz"
      },
      "source": [
        "import numpy as np\n",
        "import matplotlib.pyplot as plt\n",
        "import pandas as pd"
      ],
      "execution_count": 1,
      "outputs": []
    },
    {
      "cell_type": "code",
      "metadata": {
        "id": "VrlxohrYga12"
      },
      "source": [
        "dataset = pd.read_csv(\"Salary_Data.csv\")\n",
        "x = dataset.iloc[:, [0,1]].values\n",
        "y = dataset.iloc[:, -1].values"
      ],
      "execution_count": 3,
      "outputs": []
    },
    {
      "cell_type": "code",
      "metadata": {
        "colab": {
          "base_uri": "https://localhost:8080/"
        },
        "id": "Aks_bMvzg4Gq",
        "outputId": "c727e288-eaf5-4d2c-fc23-c76c7bce6366"
      },
      "source": [
        "print(x)"
      ],
      "execution_count": 4,
      "outputs": [
        {
          "output_type": "stream",
          "text": [
            "[[1.10000e+00 3.93430e+04]\n",
            " [1.30000e+00 4.62050e+04]\n",
            " [1.50000e+00 3.77310e+04]\n",
            " [2.00000e+00 4.35250e+04]\n",
            " [2.20000e+00 3.98910e+04]\n",
            " [2.90000e+00 5.66420e+04]\n",
            " [3.00000e+00 6.01500e+04]\n",
            " [3.20000e+00 5.44450e+04]\n",
            " [3.20000e+00 6.44450e+04]\n",
            " [3.70000e+00 5.71890e+04]\n",
            " [3.90000e+00 6.32180e+04]\n",
            " [4.00000e+00 5.57940e+04]\n",
            " [4.00000e+00 5.69570e+04]\n",
            " [4.10000e+00 5.70810e+04]\n",
            " [4.50000e+00 6.11110e+04]\n",
            " [4.90000e+00 6.79380e+04]\n",
            " [5.10000e+00 6.60290e+04]\n",
            " [5.30000e+00 8.30880e+04]\n",
            " [5.90000e+00 8.13630e+04]\n",
            " [6.00000e+00 9.39400e+04]\n",
            " [6.80000e+00 9.17380e+04]\n",
            " [7.10000e+00 9.82730e+04]\n",
            " [7.90000e+00 1.01302e+05]\n",
            " [8.20000e+00 1.13812e+05]\n",
            " [8.70000e+00 1.09431e+05]\n",
            " [9.00000e+00 1.05582e+05]\n",
            " [9.50000e+00 1.16969e+05]\n",
            " [9.60000e+00 1.12635e+05]\n",
            " [1.03000e+01 1.22391e+05]\n",
            " [1.05000e+01 1.21872e+05]]\n"
          ],
          "name": "stdout"
        }
      ]
    },
    {
      "cell_type": "code",
      "metadata": {
        "colab": {
          "base_uri": "https://localhost:8080/"
        },
        "id": "jK52LoeDg8Ze",
        "outputId": "aeb042a8-f296-434f-dff3-d23d7f8c1083"
      },
      "source": [
        "print(y)"
      ],
      "execution_count": 5,
      "outputs": [
        {
          "output_type": "stream",
          "text": [
            "[ 39343.  46205.  37731.  43525.  39891.  56642.  60150.  54445.  64445.\n",
            "  57189.  63218.  55794.  56957.  57081.  61111.  67938.  66029.  83088.\n",
            "  81363.  93940.  91738.  98273. 101302. 113812. 109431. 105582. 116969.\n",
            " 112635. 122391. 121872.]\n"
          ],
          "name": "stdout"
        }
      ]
    },
    {
      "cell_type": "code",
      "metadata": {
        "id": "ba6VxUsChDuP"
      },
      "source": [
        "from sklearn.model_selection import train_test_split\n",
        "x_train, x_test, y_train, y_test = train_test_split(x, y, test_size=0.25, random_state=0)"
      ],
      "execution_count": 6,
      "outputs": []
    },
    {
      "cell_type": "code",
      "metadata": {
        "colab": {
          "base_uri": "https://localhost:8080/"
        },
        "id": "1UF-h2J2hpqM",
        "outputId": "d4fa173a-cc71-4bea-9688-745fb689299b"
      },
      "source": [
        "print(x_train)"
      ],
      "execution_count": 7,
      "outputs": [
        {
          "output_type": "stream",
          "text": [
            "[[5.30000e+00 8.30880e+04]\n",
            " [7.90000e+00 1.01302e+05]\n",
            " [2.90000e+00 5.66420e+04]\n",
            " [5.10000e+00 6.60290e+04]\n",
            " [3.20000e+00 6.44450e+04]\n",
            " [4.50000e+00 6.11110e+04]\n",
            " [8.20000e+00 1.13812e+05]\n",
            " [6.80000e+00 9.17380e+04]\n",
            " [1.30000e+00 4.62050e+04]\n",
            " [1.05000e+01 1.21872e+05]\n",
            " [3.00000e+00 6.01500e+04]\n",
            " [2.20000e+00 3.98910e+04]\n",
            " [5.90000e+00 8.13630e+04]\n",
            " [6.00000e+00 9.39400e+04]\n",
            " [3.70000e+00 5.71890e+04]\n",
            " [3.20000e+00 5.44450e+04]\n",
            " [9.00000e+00 1.05582e+05]\n",
            " [2.00000e+00 4.35250e+04]\n",
            " [1.10000e+00 3.93430e+04]\n",
            " [7.10000e+00 9.82730e+04]\n",
            " [4.90000e+00 6.79380e+04]\n",
            " [4.00000e+00 5.69570e+04]]\n"
          ],
          "name": "stdout"
        }
      ]
    },
    {
      "cell_type": "code",
      "metadata": {
        "colab": {
          "base_uri": "https://localhost:8080/"
        },
        "id": "KU-1JNzJhtgt",
        "outputId": "7ab2221c-ff39-4f71-bcb2-90cb60db7603"
      },
      "source": [
        "print(x_test)"
      ],
      "execution_count": 8,
      "outputs": [
        {
          "output_type": "stream",
          "text": [
            "[[1.50000e+00 3.77310e+04]\n",
            " [1.03000e+01 1.22391e+05]\n",
            " [4.10000e+00 5.70810e+04]\n",
            " [3.90000e+00 6.32180e+04]\n",
            " [9.50000e+00 1.16969e+05]\n",
            " [8.70000e+00 1.09431e+05]\n",
            " [9.60000e+00 1.12635e+05]\n",
            " [4.00000e+00 5.57940e+04]]\n"
          ],
          "name": "stdout"
        }
      ]
    },
    {
      "cell_type": "code",
      "metadata": {
        "colab": {
          "base_uri": "https://localhost:8080/"
        },
        "id": "C3hlxVC4hwot",
        "outputId": "e33a253e-1e6b-44f4-a2dc-20f43d27ed50"
      },
      "source": [
        "print(y_train)"
      ],
      "execution_count": 9,
      "outputs": [
        {
          "output_type": "stream",
          "text": [
            "[ 83088. 101302.  56642.  66029.  64445.  61111. 113812.  91738.  46205.\n",
            " 121872.  60150.  39891.  81363.  93940.  57189.  54445. 105582.  43525.\n",
            "  39343.  98273.  67938.  56957.]\n"
          ],
          "name": "stdout"
        }
      ]
    },
    {
      "cell_type": "code",
      "metadata": {
        "colab": {
          "base_uri": "https://localhost:8080/"
        },
        "id": "j0LQqaz1h2QL",
        "outputId": "0e1af257-190c-4df2-db49-c58e1b7eef16"
      },
      "source": [
        "print(x_test)"
      ],
      "execution_count": 10,
      "outputs": [
        {
          "output_type": "stream",
          "text": [
            "[[1.50000e+00 3.77310e+04]\n",
            " [1.03000e+01 1.22391e+05]\n",
            " [4.10000e+00 5.70810e+04]\n",
            " [3.90000e+00 6.32180e+04]\n",
            " [9.50000e+00 1.16969e+05]\n",
            " [8.70000e+00 1.09431e+05]\n",
            " [9.60000e+00 1.12635e+05]\n",
            " [4.00000e+00 5.57940e+04]]\n"
          ],
          "name": "stdout"
        }
      ]
    },
    {
      "cell_type": "code",
      "metadata": {
        "colab": {
          "base_uri": "https://localhost:8080/"
        },
        "id": "lZWGof88h5UW",
        "outputId": "cc53e370-5680-4732-df91-e8a68a30adfa"
      },
      "source": [
        "from sklearn.naive_bayes import GaussianNB\n",
        "classifier = GaussianNB()\n",
        "classifier.fit(x_train, y_train)"
      ],
      "execution_count": 11,
      "outputs": [
        {
          "output_type": "execute_result",
          "data": {
            "text/plain": [
              "GaussianNB(priors=None, var_smoothing=1e-09)"
            ]
          },
          "metadata": {
            "tags": []
          },
          "execution_count": 11
        }
      ]
    },
    {
      "cell_type": "code",
      "metadata": {
        "id": "GKL-MXb_i5j3"
      },
      "source": [
        "y_pred = classifier.predict(x_test)"
      ],
      "execution_count": 12,
      "outputs": []
    },
    {
      "cell_type": "code",
      "metadata": {
        "colab": {
          "base_uri": "https://localhost:8080/"
        },
        "id": "JHjXfzgCjXGC",
        "outputId": "b9732e02-fe6b-4743-b142-6ac34a079f4a"
      },
      "source": [
        "from sklearn.metrics import confusion_matrix\n",
        "cm = confusion_matrix(y_test, y_pred)\n",
        "print(cm)"
      ],
      "execution_count": 13,
      "outputs": [
        {
          "output_type": "stream",
          "text": [
            "[[0 1 0 0 0 0 0 0 0 0 0 0 0 0 0]\n",
            " [0 0 0 0 0 0 0 0 0 0 0 0 0 0 0]\n",
            " [0 0 0 1 0 0 0 0 0 0 0 0 0 0 0]\n",
            " [0 0 0 0 0 0 0 0 0 0 0 0 0 0 0]\n",
            " [0 0 0 0 0 1 0 0 0 0 0 0 0 0 0]\n",
            " [0 0 0 0 0 0 0 0 0 0 0 0 0 0 0]\n",
            " [0 0 0 0 0 0 0 1 0 0 0 0 0 0 0]\n",
            " [0 0 0 0 0 0 0 0 0 0 0 0 0 0 0]\n",
            " [0 0 0 0 0 0 0 0 0 0 0 0 0 0 0]\n",
            " [0 0 0 0 0 0 0 0 1 0 0 0 0 0 0]\n",
            " [0 0 0 0 0 0 0 0 0 0 0 1 0 0 0]\n",
            " [0 0 0 0 0 0 0 0 0 0 0 0 0 0 0]\n",
            " [0 0 0 0 0 0 0 0 0 0 0 1 0 0 0]\n",
            " [0 0 0 0 0 0 0 0 0 0 0 0 0 0 0]\n",
            " [0 0 0 0 0 0 0 0 0 0 0 0 0 1 0]]\n"
          ],
          "name": "stdout"
        }
      ]
    },
    {
      "cell_type": "code",
      "metadata": {
        "id": "1a53wpThkH0W"
      },
      "source": [
        ""
      ],
      "execution_count": null,
      "outputs": []
    }
  ]
}